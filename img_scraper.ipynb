{
 "cells": [
  {
   "cell_type": "code",
   "execution_count": 32,
   "id": "eb733c45",
   "metadata": {},
   "outputs": [],
   "source": [
    "import requests\n",
    "import logging\n",
    "import os\n",
    "from bs4 import BeautifulSoup\n",
    "from urllib.request import urlopen"
   ]
  },
  {
   "cell_type": "code",
   "execution_count": 33,
   "id": "c4e17887",
   "metadata": {},
   "outputs": [],
   "source": [
    "save_dir=\"image/\"\n",
    "if not os.path.exists(save_dir):\n",
    "    os.makedirs(save_dir)"
   ]
  },
  {
   "cell_type": "code",
   "execution_count": 34,
   "id": "be92c773",
   "metadata": {},
   "outputs": [],
   "source": [
    "query=\"Elon musk\"\n"
   ]
  },
  {
   "cell_type": "code",
   "execution_count": 35,
   "id": "231f2b61",
   "metadata": {},
   "outputs": [],
   "source": [
    "url=\"https://www.google.com/search?sca_esv=553641319&sxsrf=AB5stBg96guyP_CKWnoCAa-9mC2zvCHf9w:1691114206029&q=elon+musk&tbm=isch&source=lnms&sa=X&ved=2ahUKEwjyhZms88GAAxV1UGwGHQL8D6sQ0pQJegQIChAB&biw=1440&bih=841&dpr=1.5\""
   ]
  },
  {
   "cell_type": "code",
   "execution_count": 36,
   "id": "4e07f015",
   "metadata": {},
   "outputs": [],
   "source": [
    "response=requests.get(url)"
   ]
  },
  {
   "cell_type": "code",
   "execution_count": 37,
   "id": "90bb8e71",
   "metadata": {},
   "outputs": [
    {
     "data": {
      "text/plain": [
       "<Response [200]>"
      ]
     },
     "execution_count": 37,
     "metadata": {},
     "output_type": "execute_result"
    }
   ],
   "source": [
    "response\n"
   ]
  },
  {
   "cell_type": "code",
   "execution_count": 38,
   "id": "c400e04a",
   "metadata": {},
   "outputs": [],
   "source": [
    "soup=BeautifulSoup(response.content,\"html.parser\")"
   ]
  },
  {
   "cell_type": "code",
   "execution_count": 39,
   "id": "0a3a4c20",
   "metadata": {},
   "outputs": [
    {
     "data": {
      "text/plain": [
       "<!DOCTYPE html PUBLIC \"-//WAPFORUM//DTD XHTML Mobile 1.0//EN\" \"http://www.wapforum.org/DTD/xhtml-mobile10.dtd\">\n",
       "<html lang=\"en-IN\" xmlns=\"http://www.w3.org/1999/xhtml\"><head><meta content=\"application/xhtml+xml; charset=utf-8\" http-equiv=\"Content-Type\"/><meta content=\"no-cache\" name=\"Cache-Control\"/><title>elon musk - Google Search</title><style>a{text-decoration:none;color:inherit}a:hover{text-decoration:underline}a img{border:0}body{font-family:arial,sans-serif;padding:8px;margin:0 auto;max-width:700px;min-width:240px;}.FbhRzb{border-left:thin solid #dadce0;border-right:thin solid #dadce0;border-top:thin solid #dadce0;height:40px;overflow:hidden}.n692Zd{margin-bottom:10px}.cvifge{height:40px;border-spacing:0}.QvGUP{height:40px;padding:0 8px 0 8px;vertical-align:top}.O4cRJf{height:40px;width:100%;padding:0;padding-right:16px}.O1ePr{height:40px;padding:0;vertical-align:top}.kgJEQe{height:36px;width:98px;vertical-align:top;margin-top:4px}.lXLRf{vertical-align:top}.MhzMZd{border:0;vertical-align:middle;font-size:14px;height:40px;padding:0;width:100%;padding-left:16px}.xB0fq{height:40px;border:none;font-size:14px;background-color:#1a73e8;color:#fff;padding:0 16px;margin:0;vertical-align:top;cursor:pointer}.xB0fq:focus{border:1px solid #1a73e8}.M7pB2{border:thin solid #dadce0;margin:0 0 3px 0;font-size:13px;font-weight:500;height:40px}.euZec{width:100%;height:40px;text-align:center;border-spacing:0}table.euZec td{padding:0;width:25%}.QIqI7{display:inline-block;padding-top:4px;font-weight:bold;color:#4285f4}.EY24We{border-bottom:2px solid #4285f4}.CsQyDc{display:inline-block;color:#70757a}.TuS8Ad{font-size:14px}.HddGcc{padding:8px;color:#70757a}.dzp8ae{font-weight:bold;color:#3c4043}.rEM8G{color:#70757a}.bookcf{table-layout:fixed;width:100%;border-spacing:0}.InWNIe{text-align:center}.uZgmoc{border:thin solid #dadce0;color:#70757a;font-size:14px;text-align:center;table-layout:fixed;width:100%}.frGj1b{display:block;padding:12px 0 12px 0;width:100%}.BnJWBc{text-align:center;padding:6px 0 13px 0;height:35px}.e3goi{vertical-align:top;padding:0;height:180px}.GpQGbf{margin:auto;border-collapse:collapse;border-spacing:0;width:100%}</style></head><body><style>.X6ZCif{color:#202124;font-size:11px;line-height:16px;display:inline-block;padding-top:2px;overflow:hidden;padding-bottom:4px;width:100%}.TwVfHd{border-radius:16px;border:thin solid #dadce0;display:inline-block;padding:8px 8px;margin-right:8px;margin-bottom:4px}.yekiAe{background-color:#dadce0}.mnTahd{width:100%}.ezO2md{border:thin solid #dadce0;padding:12px 16px 12px 16px;margin-bottom:10px;font-family:arial,sans-serif}.lIMUZd{font-family:arial,sans-serif}.IkMU6e{border-spacing:0}.SjCsie{width:100%}.EnarA{text-align:center}.NZWO1b{width:162px;height:140px;line-height:140px;overflow:'hidden';text-align:center}.yWs4tf{text-align:center;margin:auto;vertical-align:middle;max-width:162px;max-height:140px}.jB2rPd{padding-top:2px;padding-bottom:8px;}.fYyStc{word-break:break-word}.ynsChf{display:block;white-space:nowrap;overflow:hidden;text-overflow:ellipsis}.Fj3V3b{color:#1967d2;font-size:14px;line-height:20px}.FrIlee{color:#202124;font-size:11px;line-height:16px}.F9iS2e{color:#70757a;font-size:11px;line-height:16px}.WMQ2Le{color:#70757a;font-size:12px;line-height:16px}.x3G5ab{color:#202124;font-size:12px;line-height:16px}.fuLhoc{color:#1967d2;font-size:16px;line-height:20px}.epoveb{font-size:24px;line-height:28px;font-weight:400;color:#202124}.dXDvrc{color:#0d652d;font-size:14px;line-height:20px;word-wrap:break-word}.dloBPe{font-weight:bold}.YVIcad{color:#70757a}.JkVVdd{color:#ea4335}.oXZRFd{color:#ea4335}.MQHtg{color:#fbbc04}.pyMRrb{color:#1e8e3e}.EtTZid{color:#1e8e3e}.M3vVJe{color:#1967d2}.qXLe6d{display:block}.NHQNef{font-style:italic}.Cb8Z7c{white-space:pre}a.ZWRArf{text-decoration:none}a .CVA68e:hover{text-decoration:underline}</style><div class=\"n692Zd\"><div class=\"BnJWBc\"><a class=\"lXLRf\" href=\"/?sa=X&amp;sca_esv=553641319&amp;biw=1440&amp;bih=841&amp;output=images&amp;ie=UTF-8&amp;tbm=isch&amp;ved=0ahUKEwir-OPY-cGAAxVdd2wGHYisDgQQPAgC\"><img alt=\"Google\" class=\"kgJEQe\" src=\"/images/branding/searchlogo/1x/googlelogo_desk_heirloom_color_150x55dp.gif\"/></a></div><div class=\"FbhRzb\"><form action=\"/search\"><input name=\"sca_esv\" type=\"hidden\" value=\"553641319\"/><input name=\"biw\" type=\"hidden\" value=\"1440\"/><input name=\"bih\" type=\"hidden\" value=\"841\"/><input name=\"ie\" type=\"hidden\" value=\"ISO-8859-1\"/><input name=\"tbm\" type=\"hidden\" value=\"isch\"/><input name=\"oq\" type=\"hidden\"/><input name=\"aqs\" type=\"hidden\"/><table class=\"cvifge\"><tr><td class=\"O4cRJf\"><input class=\"MhzMZd\" name=\"q\" type=\"text\" value=\"elon musk\"/></td><td class=\"O1ePr\"><input class=\"xB0fq\" type=\"submit\" value=\"Search\"/></td></tr></table></form></div><div class=\"M7pB2\"><table class=\"euZec\"><tbody><tr><td><a class=\"CsQyDc\" href=\"/search?q=elon+musk&amp;sca_esv=553641319&amp;biw=1440&amp;bih=841&amp;ie=UTF-8&amp;source=lnms&amp;sa=X&amp;ved=0ahUKEwir-OPY-cGAAxVdd2wGHYisDgQQ_AUIBCgA\">ALL</a></td><td><a class=\"CsQyDc\" href=\"/search?q=elon+musk&amp;sca_esv=553641319&amp;biw=1440&amp;bih=841&amp;ie=UTF-8&amp;tbm=nws&amp;source=lnms&amp;sa=X&amp;ved=0ahUKEwir-OPY-cGAAxVdd2wGHYisDgQQ_AUIBSgB\">NEWS</a></td><td class=\"EY24We\"><span class=\"QIqI7\">IMAGES</span></td><td><a class=\"CsQyDc\" href=\"/search?q=elon+musk&amp;sca_esv=553641319&amp;biw=1440&amp;bih=841&amp;ie=UTF-8&amp;tbm=vid&amp;source=lnms&amp;sa=X&amp;ved=0ahUKEwir-OPY-cGAAxVdd2wGHYisDgQQ_AUIBygD\">VIDEOS</a></td></tr></tbody></table></div></div><div class=\"X6ZCif\"><a class=\"TwVfHd\" href=\"/search?sca_esv=553641319&amp;biw=1440&amp;bih=841&amp;ie=UTF-8&amp;tbm=isch&amp;q=elon+musk&amp;chips=q:elon+musk,g_1:tesla&amp;sa=X&amp;ved=0ahUKEwir-OPY-cGAAxVdd2wGHYisDgQQ4lYICygA\">tesla</a><a class=\"TwVfHd\" href=\"/search?sca_esv=553641319&amp;biw=1440&amp;bih=841&amp;ie=UTF-8&amp;tbm=isch&amp;q=elon+musk&amp;chips=q:elon+musk,g_1:spacex&amp;sa=X&amp;ved=0ahUKEwir-OPY-cGAAxVdd2wGHYisDgQQ4lYIDCgB\">spacex</a><a class=\"TwVfHd\" href=\"/search?sca_esv=553641319&amp;biw=1440&amp;bih=841&amp;ie=UTF-8&amp;tbm=isch&amp;q=elon+musk&amp;chips=q:elon+musk,g_1:wallpaper&amp;sa=X&amp;ved=0ahUKEwir-OPY-cGAAxVdd2wGHYisDgQQ4lYIDSgC\">wallpaper</a><a class=\"TwVfHd\" href=\"/search?sca_esv=553641319&amp;biw=1440&amp;bih=841&amp;ie=UTF-8&amp;tbm=isch&amp;q=elon+musk&amp;chips=q:elon+musk,g_1:rocket&amp;sa=X&amp;ved=0ahUKEwir-OPY-cGAAxVdd2wGHYisDgQQ4lYIDigD\">rocket</a><a class=\"TwVfHd\" href=\"/search?sca_esv=553641319&amp;biw=1440&amp;bih=841&amp;ie=UTF-8&amp;tbm=isch&amp;q=elon+musk&amp;chips=q:elon+musk,g_1:car&amp;sa=X&amp;ved=0ahUKEwir-OPY-cGAAxVdd2wGHYisDgQQ4lYIDygE\">car</a><a class=\"TwVfHd\" href=\"/search?sca_esv=553641319&amp;biw=1440&amp;bih=841&amp;ie=UTF-8&amp;tbm=isch&amp;q=elon+musk&amp;chips=q:elon+musk,g_1:twitter&amp;sa=X&amp;ved=0ahUKEwir-OPY-cGAAxVdd2wGHYisDgQQ4lYIECgF\">twitter</a><a class=\"TwVfHd\" href=\"/search?sca_esv=553641319&amp;biw=1440&amp;bih=841&amp;ie=UTF-8&amp;tbm=isch&amp;q=elon+musk&amp;chips=q:elon+musk,g_1:grimes&amp;sa=X&amp;ved=0ahUKEwir-OPY-cGAAxVdd2wGHYisDgQQ4lYIESgG\">grimes</a><a class=\"TwVfHd\" href=\"/search?sca_esv=553641319&amp;biw=1440&amp;bih=841&amp;ie=UTF-8&amp;tbm=isch&amp;q=elon+musk&amp;chips=q:elon+musk,g_1:early&amp;sa=X&amp;ved=0ahUKEwir-OPY-cGAAxVdd2wGHYisDgQQ4lYIEigH\">early</a><a class=\"TwVfHd\" href=\"/search?sca_esv=553641319&amp;biw=1440&amp;bih=841&amp;ie=UTF-8&amp;tbm=isch&amp;q=elon+musk&amp;chips=q:elon+musk,g_1:paypal&amp;sa=X&amp;ved=0ahUKEwir-OPY-cGAAxVdd2wGHYisDgQQ4lYIEygI\">paypal</a><a class=\"TwVfHd\" href=\"/search?sca_esv=553641319&amp;biw=1440&amp;bih=841&amp;ie=UTF-8&amp;tbm=isch&amp;q=elon+musk&amp;chips=q:elon+musk,g_1:family&amp;sa=X&amp;ved=0ahUKEwir-OPY-cGAAxVdd2wGHYisDgQQ4lYIFCgJ\">family</a></div><div><table class=\"GpQGbf\"><tr><td align=\"center\" class=\"e3goi\"><div class=\"mnTahd\"> <div> <div class=\"lIMUZd\"><div><table class=\"IkMU6e\"><tr><td><a href=\"/url?q=https://en.wikipedia.org/wiki/Elon_Musk&amp;sa=U&amp;ved=2ahUKEwir-OPY-cGAAxVdd2wGHYisDgQQqoUBegQICBAB&amp;usg=AOvVaw27oSaNWwcXzQ9-9vhdf1aT\"><div class=\"NZWO1b\"><img alt=\"\" class=\"yWs4tf\" src=\"https://encrypted-tbn0.gstatic.com/images?q=tbn:ANd9GcQ91bYeYuNi93Snai-G61-ct5IkXUEpoeW1RpiOFFuRWggNeJf-7uN0OZsy5XI&amp;s\"/></div></a></td></tr><tr><td><a href=\"/url?q=https://en.wikipedia.org/wiki/Elon_Musk&amp;sa=U&amp;ved=2ahUKEwir-OPY-cGAAxVdd2wGHYisDgQQr4kDegQICBAC&amp;usg=AOvVaw2eP0trDAR3VgQavtNcGJUD\"><div class=\"jB2rPd\"> <span class=\"qXLe6d x3G5ab\"> <span class=\"fYyStc\">Elon Musk - Wikipedia</span> </span> <span class=\"qXLe6d F9iS2e\"> <span class=\"fYyStc\">en.wikipedia.org</span> </span> </div></a></td></tr></table></div></div> </div> </div></td><td align=\"center\" class=\"e3goi\"><div class=\"mnTahd\"> <div> <div class=\"lIMUZd\"><div><table class=\"IkMU6e\"><tr><td><a href=\"/url?q=https://www.britannica.com/biography/Elon-Musk&amp;sa=U&amp;ved=2ahUKEwir-OPY-cGAAxVdd2wGHYisDgQQqoUBegQIEhAB&amp;usg=AOvVaw0llDCJpINUy2xkMRn3clr6\"><div class=\"NZWO1b\"><img alt=\"\" class=\"yWs4tf\" src=\"https://encrypted-tbn0.gstatic.com/images?q=tbn:ANd9GcQY_R5NSNoZkSlMo3hf86COGJ4fCv0s6Nx4k8uCGkWc6YGOn_m4-rIOQ3GhOhg&amp;s\"/></div></a></td></tr><tr><td><a href=\"/url?q=https://www.britannica.com/biography/Elon-Musk&amp;sa=U&amp;ved=2ahUKEwir-OPY-cGAAxVdd2wGHYisDgQQr4kDegQIEhAC&amp;usg=AOvVaw00h6NmQV3ndmbOo5l5CkQ0\"><div class=\"jB2rPd\"> <span class=\"qXLe6d x3G5ab\"> <span class=\"fYyStc\">Elon Musk | Biography,...</span> </span> <span class=\"qXLe6d F9iS2e\"> <span class=\"fYyStc\">www.britannica.com</span> </span> </div></a></td></tr></table></div></div> </div> </div></td><td align=\"center\" class=\"e3goi\"><div class=\"mnTahd\"> <div> <div class=\"lIMUZd\"><div><table class=\"IkMU6e\"><tr><td><a href=\"/url?q=https://www.britannica.com/biography/Elon-Musk&amp;sa=U&amp;ved=2ahUKEwir-OPY-cGAAxVdd2wGHYisDgQQqoUBegQIExAB&amp;usg=AOvVaw0JV5fTcobgPJJAPun_9bxp\"><div class=\"NZWO1b\"><img alt=\"\" class=\"yWs4tf\" src=\"https://encrypted-tbn0.gstatic.com/images?q=tbn:ANd9GcS6mPr1g683xgMlTnJfswzPyIjixDUJCLKR_GUOYd43dGj0LB8Uum64r_cOjl4&amp;s\"/></div></a></td></tr><tr><td><a href=\"/url?q=https://www.britannica.com/biography/Elon-Musk&amp;sa=U&amp;ved=2ahUKEwir-OPY-cGAAxVdd2wGHYisDgQQr4kDegQIExAC&amp;usg=AOvVaw3xpuTYMZU0xgOn9cARAVfv\"><div class=\"jB2rPd\"> <span class=\"qXLe6d x3G5ab\"> <span class=\"fYyStc\">Elon Musk | Biography,...</span> </span> <span class=\"qXLe6d F9iS2e\"> <span class=\"fYyStc\">www.britannica.com</span> </span> </div></a></td></tr></table></div></div> </div> </div></td><td align=\"center\" class=\"e3goi\"><div class=\"mnTahd\"> <div> <div class=\"lIMUZd\"><div><table class=\"IkMU6e\"><tr><td><a href=\"/url?q=https://commons.wikimedia.org/wiki/File:Elon_Musk_Royal_Society_(crop2).jpg&amp;sa=U&amp;ved=2ahUKEwir-OPY-cGAAxVdd2wGHYisDgQQqoUBegQIERAB&amp;usg=AOvVaw1dNxCn5LK7PhLKEXi8aa9H\"><div class=\"NZWO1b\"><img alt=\"\" class=\"yWs4tf\" src=\"https://encrypted-tbn0.gstatic.com/images?q=tbn:ANd9GcQEoGcTehPfBt44vuvC8wyJieRSiGKWqDO2UHbGG34cRttKR5nGr_NDLJHg_1s&amp;s\"/></div></a></td></tr><tr><td><a href=\"/url?q=https://commons.wikimedia.org/wiki/File:Elon_Musk_Royal_Society_(crop2).jpg&amp;sa=U&amp;ved=2ahUKEwir-OPY-cGAAxVdd2wGHYisDgQQr4kDegQIERAC&amp;usg=AOvVaw0uPNehziPw3WRJ1Q4cl0R4\"><div class=\"jB2rPd\"> <span class=\"qXLe6d x3G5ab\"> <span class=\"fYyStc\">File:Elon Musk Royal...</span> </span> <span class=\"qXLe6d F9iS2e\"> <span class=\"fYyStc\">commons.wikimedia.org</span> </span> </div></a></td></tr></table></div></div> </div> </div></td></tr><tr><td align=\"center\" class=\"e3goi\"><div class=\"mnTahd\"> <div> <div class=\"lIMUZd\"><div><table class=\"IkMU6e\"><tr><td><a href=\"/url?q=https://variety.com/2023/digital/news/twitter-musk-threatens-lawsuit-hate-speech-research-group-1235683325/&amp;sa=U&amp;ved=2ahUKEwir-OPY-cGAAxVdd2wGHYisDgQQqoUBegQIDhAB&amp;usg=AOvVaw3NqHphEb7v-ibZ_WSbPJTS\"><div class=\"NZWO1b\"><img alt=\"\" class=\"yWs4tf\" src=\"https://encrypted-tbn0.gstatic.com/images?q=tbn:ANd9GcRx5f5ZvALxKCXG4mBBnz25lveiCrSiHy1uZXujcApfryzBCs6AU5b9X9vhVg&amp;s\"/></div></a></td></tr><tr><td><a href=\"/url?q=https://variety.com/2023/digital/news/twitter-musk-threatens-lawsuit-hate-speech-research-group-1235683325/&amp;sa=U&amp;ved=2ahUKEwir-OPY-cGAAxVdd2wGHYisDgQQr4kDegQIDhAC&amp;usg=AOvVaw3teW1_QRYVq9625wDySlDj\"><div class=\"jB2rPd\"> <span class=\"qXLe6d x3G5ab\"> <span class=\"fYyStc\">Twitter/X Sues Hate-Speech...</span> </span> <span class=\"qXLe6d F9iS2e\"> <span class=\"fYyStc\">variety.com</span> </span> </div></a></td></tr></table></div></div> </div> </div></td><td align=\"center\" class=\"e3goi\"><div class=\"mnTahd\"> <div> <div class=\"lIMUZd\"><div><table class=\"IkMU6e\"><tr><td><a href=\"/url?q=https://www.biography.com/business-leaders/elon-musk&amp;sa=U&amp;ved=2ahUKEwir-OPY-cGAAxVdd2wGHYisDgQQqoUBegQIDRAB&amp;usg=AOvVaw1gXIIme6mju7EpcjoDvREG\"><div class=\"NZWO1b\"><img alt=\"\" class=\"yWs4tf\" src=\"https://encrypted-tbn0.gstatic.com/images?q=tbn:ANd9GcTvewo3-e7y-JsV16EL3q3EaMThVwCiuN7DD1_KTctFNodySZtMVcuOKk5uUQ&amp;s\"/></div></a></td></tr><tr><td><a href=\"/url?q=https://www.biography.com/business-leaders/elon-musk&amp;sa=U&amp;ved=2ahUKEwir-OPY-cGAAxVdd2wGHYisDgQQr4kDegQIDRAC&amp;usg=AOvVaw3Ol2Xqhd63DW9zu8w5HKay\"><div class=\"jB2rPd\"> <span class=\"qXLe6d x3G5ab\"> <span class=\"fYyStc\">Elon Musk - Tesla, Age &amp;...</span> </span> <span class=\"qXLe6d F9iS2e\"> <span class=\"fYyStc\">www.biography.com</span> </span> </div></a></td></tr></table></div></div> </div> </div></td><td align=\"center\" class=\"e3goi\"><div class=\"mnTahd\"> <div> <div class=\"lIMUZd\"><div><table class=\"IkMU6e\"><tr><td><a href=\"/url?q=https://news.sky.com/story/x-formerly-twitter-sues-group-accusing-elon-musk-of-allowing-hate-speech-to-thrive-12931658&amp;sa=U&amp;ved=2ahUKEwir-OPY-cGAAxVdd2wGHYisDgQQqoUBegQICRAB&amp;usg=AOvVaw17Qv6v5812kKh5V4awCYVO\"><div class=\"NZWO1b\"><img alt=\"\" class=\"yWs4tf\" src=\"https://encrypted-tbn0.gstatic.com/images?q=tbn:ANd9GcTC89VlGhGnhkhZndkkr2qctknVSv-Y-y_uMdwFuVYiN0IesWcxFipg37JKow&amp;s\"/></div></a></td></tr><tr><td><a href=\"/url?q=https://news.sky.com/story/x-formerly-twitter-sues-group-accusing-elon-musk-of-allowing-hate-speech-to-thrive-12931658&amp;sa=U&amp;ved=2ahUKEwir-OPY-cGAAxVdd2wGHYisDgQQr4kDegQICRAC&amp;usg=AOvVaw2I6NhCG1Jj3fww6-No7k1y\"><div class=\"jB2rPd\"> <span class=\"qXLe6d x3G5ab\"> <span class=\"fYyStc\">X (formerly Twitter) sues...</span> </span> <span class=\"qXLe6d F9iS2e\"> <span class=\"fYyStc\">news.sky.com</span> </span> </div></a></td></tr></table></div></div> </div> </div></td><td align=\"center\" class=\"e3goi\"><div class=\"mnTahd\"> <div> <div class=\"lIMUZd\"><div><table class=\"IkMU6e\"><tr><td><a href=\"/url?q=https://www.newyorker.com/humor/borowitz-report/elon-musk-changes-his-own-name-to-wtf&amp;sa=U&amp;ved=2ahUKEwir-OPY-cGAAxVdd2wGHYisDgQQqoUBegQICxAB&amp;usg=AOvVaw1XA_dMgrElEW2jQ6DAWGM4\"><div class=\"NZWO1b\"><img alt=\"\" class=\"yWs4tf\" src=\"https://encrypted-tbn0.gstatic.com/images?q=tbn:ANd9GcSe4Dr_szyF_FgohRuINRteHMRthhGtT5P60TzYMYYM7SFppZCdERNoW9EdF0w&amp;s\"/></div></a></td></tr><tr><td><a href=\"/url?q=https://www.newyorker.com/humor/borowitz-report/elon-musk-changes-his-own-name-to-wtf&amp;sa=U&amp;ved=2ahUKEwir-OPY-cGAAxVdd2wGHYisDgQQr4kDegQICxAC&amp;usg=AOvVaw1LmpMqpmngeLF2uHcdWPnU\"><div class=\"jB2rPd\"> <span class=\"qXLe6d x3G5ab\"> <span class=\"fYyStc\">Elon Musk Changes His Own...</span> </span> <span class=\"qXLe6d F9iS2e\"> <span class=\"fYyStc\">www.newyorker.com</span> </span> </div></a></td></tr></table></div></div> </div> </div></td></tr><tr><td align=\"center\" class=\"e3goi\"><div class=\"mnTahd\"> <div> <div class=\"lIMUZd\"><div><table class=\"IkMU6e\"><tr><td><a href=\"/url?q=https://www.fiercepharma.com/marketing/novo-nordisks-wegovy-gets-surprise-endorsement-twitters-soon-be-new-owner-elon-musk&amp;sa=U&amp;ved=2ahUKEwir-OPY-cGAAxVdd2wGHYisDgQQqoUBegQIChAB&amp;usg=AOvVaw0BFzdnxcaOn6USxaI5xhXs\"><div class=\"NZWO1b\"><img alt=\"\" class=\"yWs4tf\" src=\"https://encrypted-tbn0.gstatic.com/images?q=tbn:ANd9GcT1FvkQq75khPEQ22ffo19CNwWGkG2LdXFUwl-LYBRZ3N1XYm_oHDDzKn8hca8&amp;s\"/></div></a></td></tr><tr><td><a href=\"/url?q=https://www.fiercepharma.com/marketing/novo-nordisks-wegovy-gets-surprise-endorsement-twitters-soon-be-new-owner-elon-musk&amp;sa=U&amp;ved=2ahUKEwir-OPY-cGAAxVdd2wGHYisDgQQr4kDegQIChAC&amp;usg=AOvVaw20IOm8lnRqMtnUoVbD3PKo\"><div class=\"jB2rPd\"> <span class=\"qXLe6d x3G5ab\"> <span class=\"fYyStc\">Novo Nordisk's Wegovy gets...</span> </span> <span class=\"qXLe6d F9iS2e\"> <span class=\"fYyStc\">www.fiercepharma.com</span> </span> </div></a></td></tr></table></div></div> </div> </div></td><td align=\"center\" class=\"e3goi\"><div class=\"mnTahd\"> <div> <div class=\"lIMUZd\"><div><table class=\"IkMU6e\"><tr><td><a href=\"/url?q=https://www.theguardian.com/tv-and-radio/2022/oct/12/the-elon-musk-show-review-is-the-worlds-richest-man-a-genius-or-just-a-goofy-loner&amp;sa=U&amp;ved=2ahUKEwir-OPY-cGAAxVdd2wGHYisDgQQqoUBegQIDBAB&amp;usg=AOvVaw3hhGJDbm9k3-x48JBH4IRm\"><div class=\"NZWO1b\"><img alt=\"\" class=\"yWs4tf\" src=\"https://encrypted-tbn0.gstatic.com/images?q=tbn:ANd9GcRQZseQ9bRxUwHLR5yk-VmJYFt7AuZKTqzI7n1im9SOTEk9qWAeEoQcfZ8l5g&amp;s\"/></div></a></td></tr><tr><td><a href=\"/url?q=https://www.theguardian.com/tv-and-radio/2022/oct/12/the-elon-musk-show-review-is-the-worlds-richest-man-a-genius-or-just-a-goofy-loner&amp;sa=U&amp;ved=2ahUKEwir-OPY-cGAAxVdd2wGHYisDgQQr4kDegQIDBAC&amp;usg=AOvVaw2IzOZ5-ilCamy1LWQ109YN\"><div class=\"jB2rPd\"> <span class=\"qXLe6d x3G5ab\"> <span class=\"fYyStc\">The Elon Musk Show review –...</span> </span> <span class=\"qXLe6d F9iS2e\"> <span class=\"fYyStc\">www.theguardian.com</span> </span> </div></a></td></tr></table></div></div> </div> </div></td><td align=\"center\" class=\"e3goi\"><div class=\"mnTahd\"> <div> <div class=\"lIMUZd\"><div><table class=\"IkMU6e\"><tr><td><a href=\"/url?q=https://www.space.com/18849-elon-musk.html&amp;sa=U&amp;ved=2ahUKEwir-OPY-cGAAxVdd2wGHYisDgQQqoUBegQIDxAB&amp;usg=AOvVaw2odvdYceq0tN_Ht3bue7Zq\"><div class=\"NZWO1b\"><img alt=\"\" class=\"yWs4tf\" src=\"https://encrypted-tbn0.gstatic.com/images?q=tbn:ANd9GcT1Q-0CmrVfXGte1S5KxWDiRtt6djhyUzRP_tIhSGVZqmYd_tGTQH9EmMdXTQ&amp;s\"/></div></a></td></tr><tr><td><a href=\"/url?q=https://www.space.com/18849-elon-musk.html&amp;sa=U&amp;ved=2ahUKEwir-OPY-cGAAxVdd2wGHYisDgQQr4kDegQIDxAC&amp;usg=AOvVaw0qGOGPP01h5rQy4MHT7amR\"><div class=\"jB2rPd\"> <span class=\"qXLe6d x3G5ab\"> <span class=\"fYyStc\">Elon Musk: Revolutionary...</span> </span> <span class=\"qXLe6d F9iS2e\"> <span class=\"fYyStc\">www.space.com</span> </span> </div></a></td></tr></table></div></div> </div> </div></td><td align=\"center\" class=\"e3goi\"><div class=\"mnTahd\"> <div> <div class=\"lIMUZd\"><div><table class=\"IkMU6e\"><tr><td><a href=\"/url?q=https://finance.yahoo.com/news/elon-musk-says-treasury-bills-195144569.html&amp;sa=U&amp;ved=2ahUKEwir-OPY-cGAAxVdd2wGHYisDgQQqoUBegQIEBAB&amp;usg=AOvVaw3WD2ytZlLyk0xRyyuUkFv9\"><div class=\"NZWO1b\"><img alt=\"\" class=\"yWs4tf\" src=\"https://encrypted-tbn0.gstatic.com/images?q=tbn:ANd9GcS1vU1ygfKcPrZSklFmckrv5TEulNtblEqwAtkNF_op44y6yXdTqutfFvXBKA&amp;s\"/></div></a></td></tr><tr><td><a href=\"/url?q=https://finance.yahoo.com/news/elon-musk-says-treasury-bills-195144569.html&amp;sa=U&amp;ved=2ahUKEwir-OPY-cGAAxVdd2wGHYisDgQQr4kDegQIEBAC&amp;usg=AOvVaw2OEObQnQoZpkIjMvtTyb5R\"><div class=\"jB2rPd\"> <span class=\"qXLe6d x3G5ab\"> <span class=\"fYyStc\">Elon Musk Says Treasury...</span> </span> <span class=\"qXLe6d F9iS2e\"> <span class=\"fYyStc\">finance.yahoo.com</span> </span> </div></a></td></tr></table></div></div> </div> </div></td></tr><tr><td align=\"center\" class=\"e3goi\"><div class=\"mnTahd\"> <div> <div class=\"lIMUZd\"><div><table class=\"IkMU6e\"><tr><td><a href=\"/url?q=https://www.investopedia.com/elon-musk-regains-worlds-richest-person-title-7506906&amp;sa=U&amp;ved=2ahUKEwir-OPY-cGAAxVdd2wGHYisDgQQqoUBegQIBBAB&amp;usg=AOvVaw1QPm1y0v7_FZTGvyZ0cWfN\"><div class=\"NZWO1b\"><img alt=\"\" class=\"yWs4tf\" src=\"https://encrypted-tbn0.gstatic.com/images?q=tbn:ANd9GcSAml6qsvttMXVIK2cnwNa7LqMi_VvKaRFZcmLSDDbyAiARR95xf8qQVYyxog&amp;s\"/></div></a></td></tr><tr><td><a href=\"/url?q=https://www.investopedia.com/elon-musk-regains-worlds-richest-person-title-7506906&amp;sa=U&amp;ved=2ahUKEwir-OPY-cGAAxVdd2wGHYisDgQQr4kDegQIBBAC&amp;usg=AOvVaw0L2HJAp9jwFi5YFATvj-VE\"><div class=\"jB2rPd\"> <span class=\"qXLe6d x3G5ab\"> <span class=\"fYyStc\">Elon Musk Regains Title of...</span> </span> <span class=\"qXLe6d F9iS2e\"> <span class=\"fYyStc\">www.investopedia.com</span> </span> </div></a></td></tr></table></div></div> </div> </div></td><td align=\"center\" class=\"e3goi\"><div class=\"mnTahd\"> <div> <div class=\"lIMUZd\"><div><table class=\"IkMU6e\"><tr><td><a href=\"/url?q=https://techcrunch.com/2023/07/31/elon-musk-is-probably-right-about-one-thing/&amp;sa=U&amp;ved=2ahUKEwir-OPY-cGAAxVdd2wGHYisDgQQqoUBegQIABAB&amp;usg=AOvVaw3K5gnlTXeXnYOv3RAW1sZM\"><div class=\"NZWO1b\"><img alt=\"\" class=\"yWs4tf\" src=\"https://encrypted-tbn0.gstatic.com/images?q=tbn:ANd9GcSs8YpiFu0xIeRmcDFsd2qXEhanDhYrxh7AWXE_YY5jX1x0ESqGGYb1e3FaVBU&amp;s\"/></div></a></td></tr><tr><td><a href=\"/url?q=https://techcrunch.com/2023/07/31/elon-musk-is-probably-right-about-one-thing/&amp;sa=U&amp;ved=2ahUKEwir-OPY-cGAAxVdd2wGHYisDgQQr4kDegQIABAC&amp;usg=AOvVaw11cCTy97gUiYGrjcGcjlnE\"><div class=\"jB2rPd\"> <span class=\"qXLe6d x3G5ab\"> <span class=\"fYyStc\">Elon Musk is probably right...</span> </span> <span class=\"qXLe6d F9iS2e\"> <span class=\"fYyStc\">techcrunch.com</span> </span> </div></a></td></tr></table></div></div> </div> </div></td><td align=\"center\" class=\"e3goi\"><div class=\"mnTahd\"> <div> <div class=\"lIMUZd\"><div><table class=\"IkMU6e\"><tr><td><a href=\"/url?q=https://www.gadgets360.com/auto/news/elon-musk-tesla-ceo-ai-progress-full-self-driving-software-humanoid-robots-4228259&amp;sa=U&amp;ved=2ahUKEwir-OPY-cGAAxVdd2wGHYisDgQQqoUBegQIAxAB&amp;usg=AOvVaw0zaL45UlBFxrtQyV9Pcq9I\"><div class=\"NZWO1b\"><img alt=\"\" class=\"yWs4tf\" src=\"https://encrypted-tbn0.gstatic.com/images?q=tbn:ANd9GcRw_J9BJySt7qZQU_VDoChQCUmucErCccQXvZfhpmJRpUGcKo0MwzeEb5Gn-QY&amp;s\"/></div></a></td></tr><tr><td><a href=\"/url?q=https://www.gadgets360.com/auto/news/elon-musk-tesla-ceo-ai-progress-full-self-driving-software-humanoid-robots-4228259&amp;sa=U&amp;ved=2ahUKEwir-OPY-cGAAxVdd2wGHYisDgQQr4kDegQIAxAC&amp;usg=AOvVaw01Zz-gWEJPXuWD7D4gDXl9\"><div class=\"jB2rPd\"> <span class=\"qXLe6d x3G5ab\"> <span class=\"fYyStc\">Tesla CEO Elon Musk...</span> </span> <span class=\"qXLe6d F9iS2e\"> <span class=\"fYyStc\">www.gadgets360.com</span> </span> </div></a></td></tr></table></div></div> </div> </div></td><td align=\"center\" class=\"e3goi\"><div class=\"mnTahd\"> <div> <div class=\"lIMUZd\"><div><table class=\"IkMU6e\"><tr><td><a href=\"/url?q=https://www.businessinsider.com/elon-musk-relationships-2017-11&amp;sa=U&amp;ved=2ahUKEwir-OPY-cGAAxVdd2wGHYisDgQQqoUBegQIBRAB&amp;usg=AOvVaw2URCr34stUShVfv-mZF_yo\"><div class=\"NZWO1b\"><img alt=\"\" class=\"yWs4tf\" src=\"https://encrypted-tbn0.gstatic.com/images?q=tbn:ANd9GcTajsryULnUhibLm7EAy_8EkoDdfDf-C3MgzuCkCs3my64MQcQxf4O63e74kEI&amp;s\"/></div></a></td></tr><tr><td><a href=\"/url?q=https://www.businessinsider.com/elon-musk-relationships-2017-11&amp;sa=U&amp;ved=2ahUKEwir-OPY-cGAAxVdd2wGHYisDgQQr4kDegQIBRAC&amp;usg=AOvVaw17lW8hcescyUlqSdcBp-9H\"><div class=\"jB2rPd\"> <span class=\"qXLe6d x3G5ab\"> <span class=\"fYyStc\">Elon Musk Relationship...</span> </span> <span class=\"qXLe6d F9iS2e\"> <span class=\"fYyStc\">www.businessinsider.com</span> </span> </div></a></td></tr></table></div></div> </div> </div></td></tr><tr><td align=\"center\" class=\"e3goi\"><div class=\"mnTahd\"> <div> <div class=\"lIMUZd\"><div><table class=\"IkMU6e\"><tr><td><a href=\"/url?q=https://www.hollywoodreporter.com/business/business-news/elon-musk-threaten-free-speech-lawsuit-1235548143/&amp;sa=U&amp;ved=2ahUKEwir-OPY-cGAAxVdd2wGHYisDgQQqoUBegQIBxAB&amp;usg=AOvVaw0J83CMiK78D8bIK0d1Ktlr\"><div class=\"NZWO1b\"><img alt=\"\" class=\"yWs4tf\" src=\"https://encrypted-tbn0.gstatic.com/images?q=tbn:ANd9GcS7xplAX7jsW-QFg_6upqqMgAG7W5rMaUUZkT042gP5I-Yf05Mb1N0heA5PEoI&amp;s\"/></div></a></td></tr><tr><td><a href=\"/url?q=https://www.hollywoodreporter.com/business/business-news/elon-musk-threaten-free-speech-lawsuit-1235548143/&amp;sa=U&amp;ved=2ahUKEwir-OPY-cGAAxVdd2wGHYisDgQQr4kDegQIBxAC&amp;usg=AOvVaw26bB2A6mTTqi-olbUXm3hd\"><div class=\"jB2rPd\"> <span class=\"qXLe6d x3G5ab\"> <span class=\"fYyStc\">Elon Musk Threatens to Sue...</span> </span> <span class=\"qXLe6d F9iS2e\"> <span class=\"fYyStc\">www.hollywoodreporter.com</span> </span> </div></a></td></tr></table></div></div> </div> </div></td><td align=\"center\" class=\"e3goi\"><div class=\"mnTahd\"> <div> <div class=\"lIMUZd\"><div><table class=\"IkMU6e\"><tr><td><a href=\"/url?q=https://www.telegraph.co.uk/news/2023/07/31/elon-musk-starlink-ukraine-drone-attack-crimea/&amp;sa=U&amp;ved=2ahUKEwir-OPY-cGAAxVdd2wGHYisDgQQqoUBegQIBhAB&amp;usg=AOvVaw1af2n8jJKdv83fwPZTDJwA\"><div class=\"NZWO1b\"><img alt=\"\" class=\"yWs4tf\" src=\"https://encrypted-tbn0.gstatic.com/images?q=tbn:ANd9GcReeCT7i6rRvF3fH6AcMS0qfSdC4VwPcb77uAS7Q3oRP49bUXxlTzgoGnpPWA&amp;s\"/></div></a></td></tr><tr><td><a href=\"/url?q=https://www.telegraph.co.uk/news/2023/07/31/elon-musk-starlink-ukraine-drone-attack-crimea/&amp;sa=U&amp;ved=2ahUKEwir-OPY-cGAAxVdd2wGHYisDgQQr4kDegQIBhAC&amp;usg=AOvVaw2rV5_Zg5wm5IV7qu6VS3qQ\"><div class=\"jB2rPd\"> <span class=\"qXLe6d x3G5ab\"> <span class=\"fYyStc\">Elon Musk 'refuses' to let...</span> </span> <span class=\"qXLe6d F9iS2e\"> <span class=\"fYyStc\">www.telegraph.co.uk</span> </span> </div></a></td></tr></table></div></div> </div> </div></td><td align=\"center\" class=\"e3goi\"><div class=\"mnTahd\"> <div> <div class=\"lIMUZd\"><div><table class=\"IkMU6e\"><tr><td><a href=\"/url?q=https://tech.hindustantimes.com/tech/news/elon-musk-says-he-has-improved-corrosive-twitter-for-most-users-71686940996742.html&amp;sa=U&amp;ved=2ahUKEwir-OPY-cGAAxVdd2wGHYisDgQQqoUBegQIARAB&amp;usg=AOvVaw3ootXFm0gNErgrbwJMkY6P\"><div class=\"NZWO1b\"><img alt=\"\" class=\"yWs4tf\" src=\"https://encrypted-tbn0.gstatic.com/images?q=tbn:ANd9GcQabP2i8eKx2qum1JmTQx_9-PsULJ4viyq3GRr_2eebaWkKUqbW0_Fh13fymJI&amp;s\"/></div></a></td></tr><tr><td><a href=\"/url?q=https://tech.hindustantimes.com/tech/news/elon-musk-says-he-has-improved-corrosive-twitter-for-most-users-71686940996742.html&amp;sa=U&amp;ved=2ahUKEwir-OPY-cGAAxVdd2wGHYisDgQQr4kDegQIARAC&amp;usg=AOvVaw0MZVNLJsYYTEn2izCXPb2H\"><div class=\"jB2rPd\"> <span class=\"qXLe6d x3G5ab\"> <span class=\"fYyStc\">Elon Musk says, he has...</span> </span> <span class=\"qXLe6d F9iS2e\"> <span class=\"fYyStc\">tech.hindustantimes.com</span> </span> </div></a></td></tr></table></div></div> </div> </div></td><td align=\"center\" class=\"e3goi\"><div class=\"mnTahd\"> <div> <div class=\"lIMUZd\"><div><table class=\"IkMU6e\"><tr><td><a href=\"/url?q=https://timesofindia.indiatimes.com/gadgets-news/elon-musk-threatens-tells-microsoft-it-is-lawsuit-time-heres-why/articleshow/99627052.cms&amp;sa=U&amp;ved=2ahUKEwir-OPY-cGAAxVdd2wGHYisDgQQqoUBegQIAhAB&amp;usg=AOvVaw28pM9yuJW1mj3CD0Jprm1X\"><div class=\"NZWO1b\"><img alt=\"\" class=\"yWs4tf\" src=\"https://encrypted-tbn0.gstatic.com/images?q=tbn:ANd9GcS27iFyQf8H2p9sgoig7o8zypQ7ZUHv5b-A50DWawMLLXRaQRMX4TWFGSuykyM&amp;s\"/></div></a></td></tr><tr><td><a href=\"/url?q=https://timesofindia.indiatimes.com/gadgets-news/elon-musk-threatens-tells-microsoft-it-is-lawsuit-time-heres-why/articleshow/99627052.cms&amp;sa=U&amp;ved=2ahUKEwir-OPY-cGAAxVdd2wGHYisDgQQr4kDegQIAhAC&amp;usg=AOvVaw0Y4bkQqtGFXCSdIwIWvB1j\"><div class=\"jB2rPd\"> <span class=\"qXLe6d x3G5ab\"> <span class=\"fYyStc\">Elon Musk threatens tells...</span> </span> <span class=\"qXLe6d F9iS2e\"> <span class=\"fYyStc\">timesofindia.indiatimes.com...</span> </span> </div></a></td></tr></table></div></div> </div> </div></td></tr></table></div><table class=\"uZgmoc\"><tbody><td><a class=\"frGj1b\" href=\"/search?q=elon+musk&amp;sca_esv=553641319&amp;biw=1440&amp;bih=841&amp;ie=UTF-8&amp;tbm=isch&amp;ei=hmHMZKudCN3useMPiNm6IA&amp;start=20&amp;sa=N\">Next &gt;</a></td></tbody></table><br/><div class=\"TuS8Ad\" data-ved=\"0ahUKEwir-OPY-cGAAxVdd2wGHYisDgQQpyoIUg\"><style>.VYM29{font-weight:bold}</style><div align=\"center\" class=\"HddGcc\"><span class=\"VYM29\">731204, West Bengal</span><span> - </span><span>From your IP address</span><span> - </span><a href=\"/url?q=https://support.google.com/websearch%3Fp%3Dws_settings_location%26hl%3Den-IN&amp;sa=U&amp;ved=0ahUKEwir-OPY-cGAAxVdd2wGHYisDgQQty4IUw&amp;usg=AOvVaw2wpMuyhXkUvxsj7hi-ydp8\">Learn more</a></div><div align=\"center\"><a class=\"rEM8G\" href=\"/url?q=https://accounts.google.com/ServiceLogin%3Fcontinue%3Dhttps://www.google.com/search%253Fsca_esv%253D553641319%2526sxsrf%253DAB5stBg96guyP_CKWnoCAa-9mC2zvCHf9w:1691114206029%2526q%253Delon%252Bmusk%2526tbm%253Disch%2526source%253Dlnms%2526sa%253DX%2526ved%253D2ahUKEwjyhZms88GAAxV1UGwGHQL8D6sQ0pQJegQIChAB%2526biw%253D1440%2526bih%253D841%2526dpr%253D1.5%26hl%3Den&amp;sa=U&amp;ved=0ahUKEwir-OPY-cGAAxVdd2wGHYisDgQQxs8CCFQ&amp;usg=AOvVaw3ft5HuuSr9Kaij6hvT6HKR\">Sign in</a></div><div><table class=\"bookcf\"><tbody class=\"InWNIe\"><tr><td><a class=\"rEM8G\" href=\"https://www.google.com/preferences?hl=en&amp;sa=X&amp;ved=0ahUKEwir-OPY-cGAAxVdd2wGHYisDgQQv5YECFU\">Settings</a></td><td><a class=\"rEM8G\" href=\"https://www.google.com/intl/en_in/policies/privacy/\">Privacy</a></td><td><a class=\"rEM8G\" href=\"https://www.google.com/intl/en_in/policies/terms/\">Terms</a></td></tr></tbody></table></div></div><div> </div></body></html>"
      ]
     },
     "execution_count": 39,
     "metadata": {},
     "output_type": "execute_result"
    }
   ],
   "source": [
    "soup"
   ]
  },
  {
   "cell_type": "code",
   "execution_count": 40,
   "id": "061c017e",
   "metadata": {},
   "outputs": [],
   "source": [
    "image_tags=soup.find_all(\"img\")"
   ]
  },
  {
   "cell_type": "code",
   "execution_count": 41,
   "id": "0e904974",
   "metadata": {},
   "outputs": [],
   "source": [
    " del image_tags[0]"
   ]
  },
  {
   "cell_type": "code",
   "execution_count": 42,
   "id": "ef2ffe4f",
   "metadata": {
    "scrolled": true
   },
   "outputs": [
    {
     "data": {
      "text/plain": [
       "[<img alt=\"\" class=\"yWs4tf\" src=\"https://encrypted-tbn0.gstatic.com/images?q=tbn:ANd9GcQ91bYeYuNi93Snai-G61-ct5IkXUEpoeW1RpiOFFuRWggNeJf-7uN0OZsy5XI&amp;s\"/>,\n",
       " <img alt=\"\" class=\"yWs4tf\" src=\"https://encrypted-tbn0.gstatic.com/images?q=tbn:ANd9GcQY_R5NSNoZkSlMo3hf86COGJ4fCv0s6Nx4k8uCGkWc6YGOn_m4-rIOQ3GhOhg&amp;s\"/>,\n",
       " <img alt=\"\" class=\"yWs4tf\" src=\"https://encrypted-tbn0.gstatic.com/images?q=tbn:ANd9GcS6mPr1g683xgMlTnJfswzPyIjixDUJCLKR_GUOYd43dGj0LB8Uum64r_cOjl4&amp;s\"/>,\n",
       " <img alt=\"\" class=\"yWs4tf\" src=\"https://encrypted-tbn0.gstatic.com/images?q=tbn:ANd9GcQEoGcTehPfBt44vuvC8wyJieRSiGKWqDO2UHbGG34cRttKR5nGr_NDLJHg_1s&amp;s\"/>,\n",
       " <img alt=\"\" class=\"yWs4tf\" src=\"https://encrypted-tbn0.gstatic.com/images?q=tbn:ANd9GcRx5f5ZvALxKCXG4mBBnz25lveiCrSiHy1uZXujcApfryzBCs6AU5b9X9vhVg&amp;s\"/>,\n",
       " <img alt=\"\" class=\"yWs4tf\" src=\"https://encrypted-tbn0.gstatic.com/images?q=tbn:ANd9GcTvewo3-e7y-JsV16EL3q3EaMThVwCiuN7DD1_KTctFNodySZtMVcuOKk5uUQ&amp;s\"/>,\n",
       " <img alt=\"\" class=\"yWs4tf\" src=\"https://encrypted-tbn0.gstatic.com/images?q=tbn:ANd9GcTC89VlGhGnhkhZndkkr2qctknVSv-Y-y_uMdwFuVYiN0IesWcxFipg37JKow&amp;s\"/>,\n",
       " <img alt=\"\" class=\"yWs4tf\" src=\"https://encrypted-tbn0.gstatic.com/images?q=tbn:ANd9GcSe4Dr_szyF_FgohRuINRteHMRthhGtT5P60TzYMYYM7SFppZCdERNoW9EdF0w&amp;s\"/>,\n",
       " <img alt=\"\" class=\"yWs4tf\" src=\"https://encrypted-tbn0.gstatic.com/images?q=tbn:ANd9GcT1FvkQq75khPEQ22ffo19CNwWGkG2LdXFUwl-LYBRZ3N1XYm_oHDDzKn8hca8&amp;s\"/>,\n",
       " <img alt=\"\" class=\"yWs4tf\" src=\"https://encrypted-tbn0.gstatic.com/images?q=tbn:ANd9GcRQZseQ9bRxUwHLR5yk-VmJYFt7AuZKTqzI7n1im9SOTEk9qWAeEoQcfZ8l5g&amp;s\"/>,\n",
       " <img alt=\"\" class=\"yWs4tf\" src=\"https://encrypted-tbn0.gstatic.com/images?q=tbn:ANd9GcT1Q-0CmrVfXGte1S5KxWDiRtt6djhyUzRP_tIhSGVZqmYd_tGTQH9EmMdXTQ&amp;s\"/>,\n",
       " <img alt=\"\" class=\"yWs4tf\" src=\"https://encrypted-tbn0.gstatic.com/images?q=tbn:ANd9GcS1vU1ygfKcPrZSklFmckrv5TEulNtblEqwAtkNF_op44y6yXdTqutfFvXBKA&amp;s\"/>,\n",
       " <img alt=\"\" class=\"yWs4tf\" src=\"https://encrypted-tbn0.gstatic.com/images?q=tbn:ANd9GcSAml6qsvttMXVIK2cnwNa7LqMi_VvKaRFZcmLSDDbyAiARR95xf8qQVYyxog&amp;s\"/>,\n",
       " <img alt=\"\" class=\"yWs4tf\" src=\"https://encrypted-tbn0.gstatic.com/images?q=tbn:ANd9GcSs8YpiFu0xIeRmcDFsd2qXEhanDhYrxh7AWXE_YY5jX1x0ESqGGYb1e3FaVBU&amp;s\"/>,\n",
       " <img alt=\"\" class=\"yWs4tf\" src=\"https://encrypted-tbn0.gstatic.com/images?q=tbn:ANd9GcRw_J9BJySt7qZQU_VDoChQCUmucErCccQXvZfhpmJRpUGcKo0MwzeEb5Gn-QY&amp;s\"/>,\n",
       " <img alt=\"\" class=\"yWs4tf\" src=\"https://encrypted-tbn0.gstatic.com/images?q=tbn:ANd9GcTajsryULnUhibLm7EAy_8EkoDdfDf-C3MgzuCkCs3my64MQcQxf4O63e74kEI&amp;s\"/>,\n",
       " <img alt=\"\" class=\"yWs4tf\" src=\"https://encrypted-tbn0.gstatic.com/images?q=tbn:ANd9GcS7xplAX7jsW-QFg_6upqqMgAG7W5rMaUUZkT042gP5I-Yf05Mb1N0heA5PEoI&amp;s\"/>,\n",
       " <img alt=\"\" class=\"yWs4tf\" src=\"https://encrypted-tbn0.gstatic.com/images?q=tbn:ANd9GcReeCT7i6rRvF3fH6AcMS0qfSdC4VwPcb77uAS7Q3oRP49bUXxlTzgoGnpPWA&amp;s\"/>,\n",
       " <img alt=\"\" class=\"yWs4tf\" src=\"https://encrypted-tbn0.gstatic.com/images?q=tbn:ANd9GcQabP2i8eKx2qum1JmTQx_9-PsULJ4viyq3GRr_2eebaWkKUqbW0_Fh13fymJI&amp;s\"/>,\n",
       " <img alt=\"\" class=\"yWs4tf\" src=\"https://encrypted-tbn0.gstatic.com/images?q=tbn:ANd9GcS27iFyQf8H2p9sgoig7o8zypQ7ZUHv5b-A50DWawMLLXRaQRMX4TWFGSuykyM&amp;s\"/>]"
      ]
     },
     "execution_count": 42,
     "metadata": {},
     "output_type": "execute_result"
    }
   ],
   "source": [
    "image_tags"
   ]
  },
  {
   "cell_type": "code",
   "execution_count": 43,
   "id": "f0de260a",
   "metadata": {
    "scrolled": true
   },
   "outputs": [
    {
     "data": {
      "text/plain": [
       "20"
      ]
     },
     "execution_count": 43,
     "metadata": {},
     "output_type": "execute_result"
    }
   ],
   "source": [
    "len(image_tags)"
   ]
  },
  {
   "cell_type": "code",
   "execution_count": 44,
   "id": "df33583f",
   "metadata": {},
   "outputs": [
    {
     "name": "stdout",
     "output_type": "stream",
     "text": [
      "https://encrypted-tbn0.gstatic.com/images?q=tbn:ANd9GcQ91bYeYuNi93Snai-G61-ct5IkXUEpoeW1RpiOFFuRWggNeJf-7uN0OZsy5XI&s\n",
      "https://encrypted-tbn0.gstatic.com/images?q=tbn:ANd9GcQY_R5NSNoZkSlMo3hf86COGJ4fCv0s6Nx4k8uCGkWc6YGOn_m4-rIOQ3GhOhg&s\n",
      "https://encrypted-tbn0.gstatic.com/images?q=tbn:ANd9GcS6mPr1g683xgMlTnJfswzPyIjixDUJCLKR_GUOYd43dGj0LB8Uum64r_cOjl4&s\n",
      "https://encrypted-tbn0.gstatic.com/images?q=tbn:ANd9GcQEoGcTehPfBt44vuvC8wyJieRSiGKWqDO2UHbGG34cRttKR5nGr_NDLJHg_1s&s\n",
      "https://encrypted-tbn0.gstatic.com/images?q=tbn:ANd9GcRx5f5ZvALxKCXG4mBBnz25lveiCrSiHy1uZXujcApfryzBCs6AU5b9X9vhVg&s\n",
      "https://encrypted-tbn0.gstatic.com/images?q=tbn:ANd9GcTvewo3-e7y-JsV16EL3q3EaMThVwCiuN7DD1_KTctFNodySZtMVcuOKk5uUQ&s\n",
      "https://encrypted-tbn0.gstatic.com/images?q=tbn:ANd9GcTC89VlGhGnhkhZndkkr2qctknVSv-Y-y_uMdwFuVYiN0IesWcxFipg37JKow&s\n",
      "https://encrypted-tbn0.gstatic.com/images?q=tbn:ANd9GcSe4Dr_szyF_FgohRuINRteHMRthhGtT5P60TzYMYYM7SFppZCdERNoW9EdF0w&s\n",
      "https://encrypted-tbn0.gstatic.com/images?q=tbn:ANd9GcT1FvkQq75khPEQ22ffo19CNwWGkG2LdXFUwl-LYBRZ3N1XYm_oHDDzKn8hca8&s\n",
      "https://encrypted-tbn0.gstatic.com/images?q=tbn:ANd9GcRQZseQ9bRxUwHLR5yk-VmJYFt7AuZKTqzI7n1im9SOTEk9qWAeEoQcfZ8l5g&s\n",
      "https://encrypted-tbn0.gstatic.com/images?q=tbn:ANd9GcT1Q-0CmrVfXGte1S5KxWDiRtt6djhyUzRP_tIhSGVZqmYd_tGTQH9EmMdXTQ&s\n",
      "https://encrypted-tbn0.gstatic.com/images?q=tbn:ANd9GcS1vU1ygfKcPrZSklFmckrv5TEulNtblEqwAtkNF_op44y6yXdTqutfFvXBKA&s\n",
      "https://encrypted-tbn0.gstatic.com/images?q=tbn:ANd9GcSAml6qsvttMXVIK2cnwNa7LqMi_VvKaRFZcmLSDDbyAiARR95xf8qQVYyxog&s\n",
      "https://encrypted-tbn0.gstatic.com/images?q=tbn:ANd9GcSs8YpiFu0xIeRmcDFsd2qXEhanDhYrxh7AWXE_YY5jX1x0ESqGGYb1e3FaVBU&s\n",
      "https://encrypted-tbn0.gstatic.com/images?q=tbn:ANd9GcRw_J9BJySt7qZQU_VDoChQCUmucErCccQXvZfhpmJRpUGcKo0MwzeEb5Gn-QY&s\n",
      "https://encrypted-tbn0.gstatic.com/images?q=tbn:ANd9GcTajsryULnUhibLm7EAy_8EkoDdfDf-C3MgzuCkCs3my64MQcQxf4O63e74kEI&s\n",
      "https://encrypted-tbn0.gstatic.com/images?q=tbn:ANd9GcS7xplAX7jsW-QFg_6upqqMgAG7W5rMaUUZkT042gP5I-Yf05Mb1N0heA5PEoI&s\n",
      "https://encrypted-tbn0.gstatic.com/images?q=tbn:ANd9GcReeCT7i6rRvF3fH6AcMS0qfSdC4VwPcb77uAS7Q3oRP49bUXxlTzgoGnpPWA&s\n",
      "https://encrypted-tbn0.gstatic.com/images?q=tbn:ANd9GcQabP2i8eKx2qum1JmTQx_9-PsULJ4viyq3GRr_2eebaWkKUqbW0_Fh13fymJI&s\n",
      "https://encrypted-tbn0.gstatic.com/images?q=tbn:ANd9GcS27iFyQf8H2p9sgoig7o8zypQ7ZUHv5b-A50DWawMLLXRaQRMX4TWFGSuykyM&s\n"
     ]
    }
   ],
   "source": [
    "for i in image_tags:\n",
    "    print(i['src'])"
   ]
  },
  {
   "cell_type": "code",
   "execution_count": 13,
   "id": "1ed4e016",
   "metadata": {},
   "outputs": [],
   "source": [
    "for i in image_tags:\n",
    "    img = i['src']\n",
    "    images = requests.get(img).content\n",
    "    with open(os.path.join(save_dir,f\"{query}_{image_tags.index(i)}.jpg\"),\"wb\") as f:\n",
    "              f.write(images)"
   ]
  },
  {
   "cell_type": "code",
   "execution_count": null,
   "id": "6a3ff345",
   "metadata": {},
   "outputs": [],
   "source": []
  },
  {
   "cell_type": "code",
   "execution_count": null,
   "id": "ad133419",
   "metadata": {},
   "outputs": [],
   "source": []
  }
 ],
 "metadata": {
  "kernelspec": {
   "display_name": "Python 3 (ipykernel)",
   "language": "python",
   "name": "python3"
  },
  "language_info": {
   "codemirror_mode": {
    "name": "ipython",
    "version": 3
   },
   "file_extension": ".py",
   "mimetype": "text/x-python",
   "name": "python",
   "nbconvert_exporter": "python",
   "pygments_lexer": "ipython3",
   "version": "3.11.4"
  }
 },
 "nbformat": 4,
 "nbformat_minor": 5
}
